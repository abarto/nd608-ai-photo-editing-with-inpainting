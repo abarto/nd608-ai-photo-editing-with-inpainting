{
 "cells": [
  {
   "cell_type": "markdown",
   "id": "22363639-124c-4b19-a2a8-5d79a2a6c26e",
   "metadata": {},
   "source": [
    "# Project: AI Photo Editing with Inpainting"
   ]
  },
  {
   "cell_type": "markdown",
   "id": "147d3cb2-29bf-41d5-b870-14de7fcccab8",
   "metadata": {},
   "source": [
    "This notebook is based on the provided [starter.ipynb](Udacity-Provided-Workspace/Computer-Vision-and-Generative-AI-Project/starter/starter.ipynb) Jupyter notebook. I've modified the notebook slightly to clean up the code and remove instructions."
   ]
  },
  {
   "cell_type": "code",
   "execution_count": null,
   "id": "f4742765",
   "metadata": {},
   "outputs": [],
   "source": [
    "import numpy as np\n",
    "import requests\n",
    "import torch\n",
    "\n",
    "from diffusers import (\n",
    "    AutoPipelineForInpainting,\n",
    "    AutoPipelineForText2Image, \n",
    "    DiffusionPipeline\n",
    ")\n",
    "from diffusers.utils import load_image, make_image_grid\n",
    "from PIL import Image\n",
    "from transformers import SamModel, SamProcessor"
   ]
  },
  {
   "cell_type": "code",
   "execution_count": null,
   "id": "3f9ddd35-f9f5-4e8d-9a5d-83ba90c71b79",
   "metadata": {},
   "outputs": [],
   "source": [
    "import warnings\n",
    "warnings.filterwarnings('ignore')"
   ]
  },
  {
   "cell_type": "markdown",
   "id": "4444b44e",
   "metadata": {},
   "source": [
    "## SAM"
   ]
  },
  {
   "cell_type": "code",
   "execution_count": null,
   "id": "8331d670-59dc-4cfc-b10c-4648573973ac",
   "metadata": {},
   "outputs": [],
   "source": [
    "device = \"cuda\" if torch.cuda.is_available() else \"cpu\"\n",
    "\n",
    "# model = SamModel.from_pretrained(\"facebook/sam-vit-huge\").to(device)\n",
    "# processor = SamProcessor.from_pretrained(\"facebook/sam-vit-huge\")\n",
    "\n",
    "model = SamModel.from_pretrained(\"facebook/sam-vit-base\").to(device)\n",
    "processor = SamProcessor.from_pretrained(\"facebook/sam-vit-base\")"
   ]
  },
  {
   "cell_type": "markdown",
   "id": "34e647b2",
   "metadata": {},
   "source": [
    "## Get the segmentation mask"
   ]
  },
  {
   "cell_type": "code",
   "execution_count": null,
   "id": "c10aed63",
   "metadata": {},
   "outputs": [],
   "source": [
    "def mask_to_rgb(mask):\n",
    "    \"\"\"\n",
    "    Transforms a binary mask into an RGBA image for visualization\n",
    "    \"\"\"\n",
    "    \n",
    "    bg_transparent = np.zeros(mask.shape + (4, ), dtype=np.uint8)\n",
    "    \n",
    "    # Color the area we will replace in green\n",
    "    # (this vector is [Red, Green, Blue, Alpha])\n",
    "    bg_transparent[mask == 1] = [0, 255, 0, 127]\n",
    "    \n",
    "    return bg_transparent\n",
    "\n",
    "\n",
    "def get_processed_inputs(image, input_points):\n",
    "    # Generate model inputs\n",
    "    inputs = processor(\n",
    "        raw_image,\n",
    "        input_points=input_points,\n",
    "        return_tensors=\"pt\"\n",
    "    ).to(device)\n",
    "    \n",
    "    # Call SAM\n",
    "    with torch.no_grad():\n",
    "        outputs = model(**inputs)\n",
    "    \n",
    "    # Now let's post process the outputs of SAM to obtain the masks\n",
    "    masks = processor.image_processor.post_process_masks(\n",
    "       outputs.pred_masks.cpu(), \n",
    "       inputs[\"original_sizes\"].cpu(), \n",
    "       inputs[\"reshaped_input_sizes\"].cpu()\n",
    "    )\n",
    "    \n",
    "    # Here we select the mask with the highest score\n",
    "    # as the mask we will use. You can experiment with also\n",
    "    # other selection criteria, for example the largest mask\n",
    "    # instead of the most confident mask\n",
    "    best_mask = masks[0][0][outputs.iou_scores.argmax()] \n",
    "\n",
    "    # NOTE: we invert the mask by using the ~ operator because\n",
    "    # so that the subject pixels will have a value of 0 and the\n",
    "    # background pixels a value of 1. This will make it more convenient\n",
    "    # to infill the background\n",
    "    return ~best_mask.cpu().numpy()"
   ]
  },
  {
   "cell_type": "code",
   "execution_count": null,
   "id": "8cea615b",
   "metadata": {},
   "outputs": [],
   "source": [
    "# Open the image of the car and **we resize it to 512 by 512 pixels** (a square image).\n",
    "raw_image = Image.open(\"car.png\").convert(\"RGB\").resize((512, 512))\n",
    "\n",
    "# These are the coordinates of two points on the car\n",
    "input_points = [[[150, 170], [300, 250]]]\n",
    "\n",
    "# Generate the mask using our function\n",
    "mask = get_processed_inputs(raw_image, input_points)\n",
    "\n",
    "# Display result\n",
    "Image.fromarray(mask_to_rgb(mask)).resize((128, 128))"
   ]
  },
  {
   "cell_type": "markdown",
   "id": "e9bb0fb5",
   "metadata": {},
   "source": [
    "## Inpainting"
   ]
  },
  {
   "cell_type": "code",
   "execution_count": null,
   "id": "301bf035",
   "metadata": {},
   "outputs": [],
   "source": [
    "pipeline = AutoPipelineForInpainting.from_pretrained(\n",
    "    \"diffusers/stable-diffusion-xl-1.0-inpainting-0.1\",\n",
    "    torch_dtype=torch.float16\n",
    ")\n",
    "\n",
    "pipeline.enable_model_cpu_offload()"
   ]
  },
  {
   "cell_type": "code",
   "execution_count": null,
   "id": "224b2928",
   "metadata": {},
   "outputs": [],
   "source": [
    "def inpaint(\n",
    "    raw_image,             # Raw image\n",
    "    input_mask,            # Input mask generated by SAM\n",
    "    prompt,                # Text prompt for infill\n",
    "    negative_prompt=None,  # Negative prompt\n",
    "    seed=74294536,         # Seed\n",
    "    cfgs=7                 # Classifier-Free Guidance Scale\n",
    "):\n",
    "    mask_image = Image.fromarray(input_mask)\n",
    "    \n",
    "    rand_gen = torch.manual_seed(seed)\n",
    "    \n",
    "    # Use the pipeline we have created in the previous cell\n",
    "    # Use \"prompt\" as prompt, \n",
    "    # \"negative_prompt\" as the negative prompt,\n",
    "    # raw_image as the image,\n",
    "    # mask_image as the mask_image,\n",
    "    # rand_gen as the generator and\n",
    "    # cfgs as the guidance_scale\n",
    "    image = pipeline(\n",
    "        image=raw_image,\n",
    "        mask_image=mask_image,\n",
    "        seed=seed,\n",
    "        generator=rand_gen,\n",
    "        prompt=prompt,\n",
    "        negative_prompt=negative_prompt,\n",
    "        guidance_scale=cfgs\n",
    "    ).images[0]\n",
    "    \n",
    "    return image"
   ]
  },
  {
   "cell_type": "code",
   "execution_count": null,
   "id": "c7bb51e7",
   "metadata": {},
   "outputs": [],
   "source": [
    "prompt = \"a car driving on Mars. Studio lights, 1970s\"\n",
    "negative_prompt = \"artifacts, low quality, distortion\"\n",
    "\n",
    "image = inpaint(raw_image, mask, prompt, negative_prompt)"
   ]
  },
  {
   "cell_type": "markdown",
   "id": "e2e28195",
   "metadata": {},
   "source": [
    "Let's have a look at what we have produced:"
   ]
  },
  {
   "cell_type": "code",
   "execution_count": null,
   "id": "d4d87a1a",
   "metadata": {},
   "outputs": [],
   "source": [
    "fig = make_image_grid([raw_image, Image.fromarray(mask_to_rgb(mask)), image.resize((512, 512))], rows=1, cols=3)\n",
    "fig"
   ]
  },
  {
   "attachments": {
    "image-3.png": {
     "image/png": "[encoded data removed]"
    },
    "image.png": {
     "image/png": "[encoded data removed]"
    }
   },
   "cell_type": "markdown",
   "id": "b0f27cec",
   "metadata": {},
   "source": [
    "## Interactive app\n",
    "\n",
    "To make things a bit more fun, we have prepared an interactive app for you that uses the code you have completed and allow you to upload an image, run SAM, and generate the new background through a text prompt.\n",
    "\n",
    "Simply execute the following cell. The output will contain a preview of the app: **DO NOT USE IT**. Instead, you will also see a link similar to this:\n",
    "\n",
    "![image.png](attachment:image.png)\n",
    "\n",
    "Click on the second link (the public URL), from there you will be able to use the app much more comfortably.\n",
    "\n",
    "> NOTE: if for any reason you need to stop the app, click on the stop icon of the jupyter interface: ![image-3.png](attachment:image-3.png)  then **execute the next cell containing the code `my_app.close`**\n"
   ]
  },
  {
   "cell_type": "code",
   "execution_count": null,
   "id": "0342420d",
   "metadata": {},
   "outputs": [],
   "source": [
    "import app"
   ]
  },
  {
   "cell_type": "code",
   "execution_count": null,
   "id": "68ee6f3e",
   "metadata": {},
   "outputs": [],
   "source": [
    "my_app = app.generate_app(get_processed_inputs, inpaint)"
   ]
  },
  {
   "cell_type": "code",
   "execution_count": null,
   "id": "b23d2ace",
   "metadata": {},
   "outputs": [],
   "source": [
    "my_app.close()"
   ]
  },
  {
   "cell_type": "code",
   "execution_count": null,
   "id": "1bce899e",
   "metadata": {},
   "outputs": [],
   "source": []
  }
 ],
 "metadata": {
  "kernelspec": {
   "display_name": "Python 3 (ipykernel)",
   "language": "python",
   "name": "python3"
  },
  "language_info": {
   "codemirror_mode": {
    "name": "ipython",
    "version": 3
   },
   "file_extension": ".py",
   "mimetype": "text/x-python",
   "name": "python",
   "nbconvert_exporter": "python",
   "pygments_lexer": "ipython3",
   "version": "3.12.2"
  }
 },
 "nbformat": 4,
 "nbformat_minor": 5
}
